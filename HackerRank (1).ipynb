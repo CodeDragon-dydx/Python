{
 "cells": [
  {
   "cell_type": "code",
   "execution_count": null,
   "metadata": {
    "collapsed": false
   },
   "outputs": [],
   "source": [
    "print(\"Hello, World!\")"
   ]
  },
  {
   "cell_type": "code",
   "execution_count": null,
   "metadata": {
    "collapsed": false
   },
   "outputs": [],
   "source": [
    "n = int(input().strip())\n",
    "if(n%2 == 0):\n",
    "    if(n>= 2 and n<= 5):\n",
    "        print(\"Not Weird\")\n",
    "    elif(n >= 6 and n <= 20):\n",
    "        print(\"Weird\")\n",
    "    else:\n",
    "        print(\"Not Weird\")\n",
    "else:\n",
    "    print(\"Weird\")"
   ]
  },
  {
   "cell_type": "code",
   "execution_count": null,
   "metadata": {
    "collapsed": false
   },
   "outputs": [],
   "source": [
    "a = int(input())\n",
    "b = int(input())\n",
    "\n",
    "print(a//b)\n",
    "print(a/b)"
   ]
  },
  {
   "cell_type": "code",
   "execution_count": null,
   "metadata": {
    "collapsed": false
   },
   "outputs": [],
   "source": [
    "#n=5\n",
    "#Print the string 12345\n",
    "\n",
    "n = int(input())\n",
    "i = 1\n",
    "while i<=n:\n",
    "    print(i, end = '')\n",
    "    i = i+1"
   ]
  },
  {
   "cell_type": "code",
   "execution_count": null,
   "metadata": {
    "collapsed": false
   },
   "outputs": [],
   "source": [
    "n = int(input())\n",
    "for i in range(1,n+1):\n",
    "    print(i, end = '')"
   ]
  },
  {
   "cell_type": "code",
   "execution_count": null,
   "metadata": {
    "collapsed": false
   },
   "outputs": [],
   "source": [
    "a = int(input())\n",
    "b = int(input())\n",
    "\n",
    "print(a+b)\n",
    "print(a-b)\n",
    "print(a*b)"
   ]
  },
  {
   "cell_type": "code",
   "execution_count": null,
   "metadata": {
    "collapsed": false
   },
   "outputs": [],
   "source": [
    "def is_leap(year):\n",
    "    return year%4 == 0 and (year%400 == 0 or year%100 != 0)\n",
    "\n",
    "year = int(input())\n",
    "print(is_leap(year))"
   ]
  },
  {
   "cell_type": "code",
   "execution_count": null,
   "metadata": {
    "collapsed": false
   },
   "outputs": [],
   "source": [
    "#List Comprehension\n",
    "\n",
    "\"\"\" Let's learn about list comprehensions! \n",
    "You are given three integers  and  representing the dimensions of a cuboid along with an integer . \n",
    "Print a list of all possible coordinates given by  on a 3D grid where the sum of  is not equal to . \n",
    "Here, . Please use list comprehensions rather than multiple loops, as a learning exercise. \"\"\"\n",
    "\n",
    "x = int(input())\n",
    "y = int(input())\n",
    "z = int(input())\n",
    "n = int(input())\n",
    "final = []\n",
    "for i in range(x+1):\n",
    "    for j in range(y+1):\n",
    "        for k in range(z+1):\n",
    "            if (i+j+k != n):\n",
    "                final.append([i,j,k])\n",
    "print(final)"
   ]
  },
  {
   "cell_type": "code",
   "execution_count": 4,
   "metadata": {
    "collapsed": false
   },
   "outputs": [
    {
     "name": "stdout",
     "output_type": "stream",
     "text": [
      "5\n",
      "d\n",
      "1\n",
      "a\n",
      "2\n",
      "c\n",
      "1\n",
      "b\n",
      "3\n",
      "e\n",
      "4\n"
     ]
    }
   ],
   "source": [
    "#Nested Lists\n",
    "\n",
    "\"\"\"Given the names and grades for each student in a class of  students, store them in a nested list and \n",
    "    print the name(s) of any student(s) having the second lowest grade.\"\"\"\n",
    "\n",
    "n = int(input())\n",
    "nested_list = []\n",
    "for i in range(n):\n",
    "    name = input()\n",
    "    score = float(input())\n",
    "    nested_list.append([name,score])\n",
    "\n",
    "nested_list.sort(key = lambda x:(x[1],x[0]))"
   ]
  },
  {
   "cell_type": "code",
   "execution_count": 5,
   "metadata": {
    "collapsed": false
   },
   "outputs": [
    {
     "name": "stdout",
     "output_type": "stream",
     "text": [
      "[['c', 1.0], ['d', 1.0], ['a', 2.0], ['b', 3.0], ['e', 4.0]]\n"
     ]
    }
   ],
   "source": [
    "print(nested_list)"
   ]
  },
  {
   "cell_type": "code",
   "execution_count": 7,
   "metadata": {
    "collapsed": false
   },
   "outputs": [
    {
     "name": "stdout",
     "output_type": "stream",
     "text": [
      "a\n"
     ]
    }
   ],
   "source": [
    "lowest = nested_list[0][1]\n",
    "second_lowest = nested_list[1][1]\n",
    "for name,score in nested_list[1:n]:\n",
    "    if score > lowest:\n",
    "        second_lowest = score\n",
    "        break\n",
    "for name,score in nested_list[1:n]:\n",
    "    if score == second_lowest:\n",
    "        print(name)\n",
    "    elif score > second_lowest:\n",
    "        break"
   ]
  },
  {
   "cell_type": "code",
   "execution_count": 55,
   "metadata": {
    "collapsed": false
   },
   "outputs": [
    {
     "name": "stdout",
     "output_type": "stream",
     "text": [
      "4\n",
      "27 27 25 3\n"
     ]
    }
   ],
   "source": [
    "#Given the participants' score sheet for your University Sports Day, you are required to find the runner-up score. \n",
    "#You are given  scores. Store them in a list and find the score of the runner-up.\n",
    "\n",
    "n = int(input())\n",
    "arr = list(map(int,input().split()))"
   ]
  },
  {
   "cell_type": "code",
   "execution_count": 56,
   "metadata": {
    "collapsed": false
   },
   "outputs": [
    {
     "name": "stdout",
     "output_type": "stream",
     "text": [
      "[27, 27, 25, 3]\n"
     ]
    }
   ],
   "source": [
    "new_arr = sorted(arr, reverse = True)\n",
    "print(new_arr)"
   ]
  },
  {
   "cell_type": "code",
   "execution_count": 57,
   "metadata": {
    "collapsed": true
   },
   "outputs": [],
   "source": [
    "highest = new_arr[0]\n",
    "second_highest = new_arr[1]"
   ]
  },
  {
   "cell_type": "code",
   "execution_count": 62,
   "metadata": {
    "collapsed": false
   },
   "outputs": [
    {
     "name": "stdout",
     "output_type": "stream",
     "text": [
      "25\n"
     ]
    }
   ],
   "source": [
    "for score in new_arr:\n",
    "    if score < highest:\n",
    "        second_highest = score\n",
    "        break\n",
    "        \n",
    "print(second_highest)\n",
    "        \n",
    "# for score in new_arr:\n",
    "#     if score == second_highest:\n",
    "#         print(second_highest)\n",
    "#     elif second_highest > score:\n",
    "#         break"
   ]
  },
  {
   "cell_type": "code",
   "execution_count": null,
   "metadata": {
    "collapsed": true
   },
   "outputs": [],
   "source": []
  }
 ],
 "metadata": {
  "kernelspec": {
   "display_name": "Python 3",
   "language": "python",
   "name": "python3"
  },
  "language_info": {
   "codemirror_mode": {
    "name": "ipython",
    "version": 3
   },
   "file_extension": ".py",
   "mimetype": "text/x-python",
   "name": "python",
   "nbconvert_exporter": "python",
   "pygments_lexer": "ipython3",
   "version": "3.6.9"
  }
 },
 "nbformat": 4,
 "nbformat_minor": 2
}
