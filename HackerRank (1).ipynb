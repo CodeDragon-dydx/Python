{
 "cells": [
  {
   "cell_type": "code",
   "execution_count": null,
   "metadata": {
    "collapsed": false
   },
   "outputs": [],
   "source": [
    "print(\"Hello, World!\")"
   ]
  },
  {
   "cell_type": "code",
   "execution_count": null,
   "metadata": {
    "collapsed": false
   },
   "outputs": [],
   "source": [
    "#Method #1 -\n",
    "\n",
    "n = int(input().strip())\n",
    "if(n%2 == 0):\n",
    "    if(n>= 2 and n<= 5):\n",
    "        print(\"Not Weird\")\n",
    "    elif(n >= 6 and n <= 20):\n",
    "        print(\"Weird\")\n",
    "    else:\n",
    "        print(\"Not Weird\")\n",
    "else:\n",
    "    print(\"Weird\")\n",
    "    \n",
    "#Method #2 -\n",
    "import math\n",
    "import os\n",
    "import random\n",
    "import re\n",
    "import sys\n",
    "\n",
    "if __name__ == '__main__':\n",
    "    n = int(input().strip())\n",
    "    if(n%2 != 0):\n",
    "        print(\"Weird\")\n",
    "    elif (n%2 == 0):\n",
    "        if(n in range(2,6)):\n",
    "            print(\"Not Weird\")\n",
    "        elif(n in range(6,21)):\n",
    "            print(\"Weird\")\n",
    "        else:\n",
    "            print(\"Not Weird\")"
   ]
  },
  {
   "cell_type": "code",
   "execution_count": null,
   "metadata": {
    "collapsed": false
   },
   "outputs": [],
   "source": [
    "a = int(input())\n",
    "b = int(input())\n",
    "\n",
    "print(a//b)\n",
    "print(a/b)"
   ]
  },
  {
   "cell_type": "code",
   "execution_count": null,
   "metadata": {
    "collapsed": false
   },
   "outputs": [],
   "source": [
    "#n=5\n",
    "#Print the string 12345\n",
    "\n",
    "n = int(input())\n",
    "i = 1\n",
    "while i<=n:\n",
    "    print(i, end = '')\n",
    "    i = i+1"
   ]
  },
  {
   "cell_type": "code",
   "execution_count": null,
   "metadata": {
    "collapsed": false
   },
   "outputs": [],
   "source": [
    "n = int(input())\n",
    "for i in range(1,n+1):\n",
    "    print(i, end = '')"
   ]
  },
  {
   "cell_type": "code",
   "execution_count": null,
   "metadata": {
    "collapsed": false
   },
   "outputs": [],
   "source": [
    "a = int(input())\n",
    "b = int(input())\n",
    "\n",
    "print(a+b)\n",
    "print(a-b)\n",
    "print(a*b)"
   ]
  },
  {
   "cell_type": "code",
   "execution_count": null,
   "metadata": {
    "collapsed": false
   },
   "outputs": [],
   "source": [
    "def is_leap(year):\n",
    "    return year%4 == 0 and (year%400 == 0 or year%100 != 0)\n",
    "\n",
    "year = int(input())\n",
    "print(is_leap(year))"
   ]
  },
  {
   "cell_type": "code",
   "execution_count": null,
   "metadata": {
    "collapsed": false
   },
   "outputs": [],
   "source": [
    "#List Comprehension\n",
    "\n",
    "\"\"\" Let's learn about list comprehensions! \n",
    "You are given three integers  and  representing the dimensions of a cuboid along with an integer . \n",
    "Print a list of all possible coordinates given by  on a 3D grid where the sum of  is not equal to . \n",
    "Here, . Please use list comprehensions rather than multiple loops, as a learning exercise. \"\"\"\n",
    "\n",
    "x = int(input())\n",
    "y = int(input())\n",
    "z = int(input())\n",
    "n = int(input())\n",
    "final = []\n",
    "for i in range(x+1):\n",
    "    for j in range(y+1):\n",
    "        for k in range(z+1):\n",
    "            if (i+j+k != n):\n",
    "                final.append([i,j,k])\n",
    "print(final)"
   ]
  },
  {
   "cell_type": "code",
   "execution_count": null,
   "metadata": {
    "collapsed": false
   },
   "outputs": [],
   "source": [
    "#Nested Lists\n",
    "\n",
    "\"\"\"Given the names and grades for each student in a class of  students, store them in a nested list and \n",
    "    print the name(s) of any student(s) having the second lowest grade.\"\"\"\n",
    "\n",
    "n = int(input())\n",
    "nested_list = []\n",
    "for i in range(n):\n",
    "    name = input()\n",
    "    score = float(input())\n",
    "    nested_list.append([name,score])\n",
    "\n",
    "nested_list.sort(key = lambda x:(x[1],x[0]))"
   ]
  },
  {
   "cell_type": "code",
   "execution_count": null,
   "metadata": {
    "collapsed": false
   },
   "outputs": [],
   "source": [
    "print(nested_list)"
   ]
  },
  {
   "cell_type": "code",
   "execution_count": null,
   "metadata": {
    "collapsed": false
   },
   "outputs": [],
   "source": [
    "lowest = nested_list[0][1]\n",
    "second_lowest = nested_list[1][1]\n",
    "for name,score in nested_list[1:n]:\n",
    "    if score > lowest:\n",
    "        second_lowest = score\n",
    "        break\n",
    "for name,score in nested_list[1:n]:\n",
    "    if score == second_lowest:\n",
    "        print(name)\n",
    "    elif score > second_lowest:\n",
    "        break"
   ]
  },
  {
   "cell_type": "code",
   "execution_count": null,
   "metadata": {
    "collapsed": false
   },
   "outputs": [],
   "source": [
    "#Given the participants' score sheet for your University Sports Day, you are required to find the runner-up score. \n",
    "#You are given  scores. Store them in a list and find the score of the runner-up.\n",
    "\n",
    "n = int(input())\n",
    "arr = list(map(int,input().split()))"
   ]
  },
  {
   "cell_type": "code",
   "execution_count": null,
   "metadata": {
    "collapsed": false
   },
   "outputs": [],
   "source": [
    "new_arr = sorted(arr, reverse = True)\n",
    "print(new_arr)"
   ]
  },
  {
   "cell_type": "code",
   "execution_count": null,
   "metadata": {
    "collapsed": true
   },
   "outputs": [],
   "source": [
    "highest = new_arr[0]\n",
    "second_highest = new_arr[1]"
   ]
  },
  {
   "cell_type": "code",
   "execution_count": null,
   "metadata": {
    "collapsed": false
   },
   "outputs": [],
   "source": [
    "for score in new_arr:\n",
    "    if score < highest:\n",
    "        second_highest = score\n",
    "        break\n",
    "  \n",
    "print(second_highest)\n",
    "# for score in new_arr:\n",
    "#     if score == second_highest:\n",
    "#         print(second_highest)\n",
    "#     elif second_highest > score:\n",
    "#         break"
   ]
  },
  {
   "cell_type": "code",
   "execution_count": null,
   "metadata": {
    "collapsed": false
   },
   "outputs": [],
   "source": [
    "#Finding the Percentage\n",
    "\"\"\"The provided code stub will read in a dictionary containing key/value pairs of name:[marks] for a list of students. \n",
    "    Print the average of the marks array for the student name provided, showing 2 places after the decimal.\"\"\"\n",
    "\n",
    "n = int(input())\n",
    "student_marks = {}\n",
    "for _ in range(n):\n",
    "    name, *line = input().split()\n",
    "    scores = list(map(float, line))\n",
    "    student_marks[name] = scores\n",
    "query_name = input()\n",
    "if query_name in student_marks.keys(): \n",
    "    current_scores = student_marks[query_name]\n",
    "    average = sum(current_scores)/len(current_scores)\n",
    "    print('%.2f' %average)"
   ]
  },
  {
   "cell_type": "code",
   "execution_count": null,
   "metadata": {
    "collapsed": false
   },
   "outputs": [],
   "source": [
    "#Tuples\n",
    "\"\"\"Given an integer, , and  space-separated integers as input, create a tuple, , of those  integers. \n",
    "Then compute and print the result of hash(t).\"\"\"\n",
    "n = int((input()))\n",
    "integers = tuple(map(int, input().split()))\n",
    "print(hash(integers))"
   ]
  },
  {
   "cell_type": "code",
   "execution_count": null,
   "metadata": {
    "collapsed": false
   },
   "outputs": [],
   "source": [
    "#Lists\n",
    "\"\"\"Consider a list (list = []). You can perform the following commands\"\"\"\n",
    "N = int(input())\n",
    "final_list = []\n",
    "for i in range(N):\n",
    "    command = input().split()\n",
    "    if command[0] == 'insert':\n",
    "        index = int(command[1])\n",
    "        value = int(command[2])\n",
    "        final_list.insert(index,value)\n",
    "    elif command[0]=='print':\n",
    "        print(final_list)\n",
    "    elif command[0] == 'append':\n",
    "        final_list.append(int(command[1]))\n",
    "    elif command[0] == 'sort':\n",
    "        final_list.sort()\n",
    "    elif command[0] == 'pop':\n",
    "        final_list.pop()\n",
    "    elif command[0] == 'remove':\n",
    "        final_list.remove(int(command[1]))\n",
    "    elif command[0] == 'reverse':\n",
    "        final_list.reverse()\n",
    "print(final_list)"
   ]
  },
  {
   "cell_type": "code",
   "execution_count": null,
   "metadata": {
    "collapsed": false
   },
   "outputs": [],
   "source": [
    "#2nd method - string formatting in python\n",
    "N = int(input())\n",
    "z= []\n",
    "for i in range(N):\n",
    "    command, *args = input().split() \n",
    "    if command == 'print':\n",
    "        print(z)   \n",
    "    else:   \n",
    "        args = list(map(int,args))\n",
    "        c = f'z.{command}{(*args,)}'\n",
    "        print(c)\n",
    "        eval(c)"
   ]
  },
  {
   "cell_type": "code",
   "execution_count": null,
   "metadata": {
    "collapsed": false
   },
   "outputs": [],
   "source": [
    "print(z)"
   ]
  },
  {
   "cell_type": "code",
   "execution_count": null,
   "metadata": {
    "collapsed": false
   },
   "outputs": [],
   "source": [
    "#Swap Case\n",
    "\"\"\"You are given a string and your task is to swap cases. \n",
    "   In other words, convert all lowercase letters to uppercase letters and vice versa.\"\"\"\n",
    "def swap_case(s):\n",
    "    return s.swapcase()\n",
    "\n",
    "if __name__ == '__main__':\n",
    "    s = input()\n",
    "    result = swap_case(s)\n",
    "    print(result)"
   ]
  },
  {
   "cell_type": "code",
   "execution_count": null,
   "metadata": {
    "collapsed": false
   },
   "outputs": [],
   "source": [
    "#String Split and Join\n",
    "#In Python, a string can be split on a delimiter.\n",
    "def split_and_join(line):\n",
    "    split_line = line.split(\" \")\n",
    "    join_line = \"-\".join(split_line)\n",
    "    return join_line\n",
    "\n",
    "if __name__ == \"__main__\":\n",
    "    line = input()\n",
    "    result = split_and_join(line)\n",
    "    print(result)"
   ]
  },
  {
   "cell_type": "code",
   "execution_count": null,
   "metadata": {
    "collapsed": false
   },
   "outputs": [],
   "source": [
    "#What's your name\n",
    "\"\"\"You are given the firstname and lastname of a person on two different lines. \n",
    "Your task is to read them and print the following:\n",
    "Hello firstname lastname! You just delved into python.\"\"\"\n",
    "\n",
    "def print_full_name(first, last):\n",
    "    full_name =\"Hello {} {}! you just delved into python\".format(first,last)\n",
    "    print(full_name)\n",
    "    \n",
    "if __name__== '__main__':\n",
    "    first_name = input()\n",
    "    last_name = input()\n",
    "    print_full_name(first_name, last_name)\n",
    "    "
   ]
  },
  {
   "cell_type": "code",
   "execution_count": null,
   "metadata": {
    "collapsed": false
   },
   "outputs": [],
   "source": [
    "def mutate_string(string,position, character):\n",
    "    l = list(string)\n",
    "    l[position] = character\n",
    "    string = ''.join(l)\n",
    "    return string\n",
    "\n",
    "def m_string(string, position, character):\n",
    "    string = string[:position]+character+string[position+1:]\n",
    "    return string\n",
    "\n",
    "if __name__ == '__main__':\n",
    "    s = input()\n",
    "    i,c = input().split()\n",
    "    s_new = m_string(s,int(i), c)\n",
    "    print(s_new)"
   ]
  },
  {
   "cell_type": "code",
   "execution_count": null,
   "metadata": {
    "collapsed": false
   },
   "outputs": [],
   "source": [
    "def count_substring(string, sub_string):\n",
    "    count = string.count(sub_string)\n",
    "    return count\n",
    "\n",
    "if __name__ == '__main__':\n",
    "    string = input().strip()\n",
    "    sub_string = input().strip()\n",
    "    count = count_substring(string,sub_string)\n",
    "    print(count)"
   ]
  },
  {
   "cell_type": "code",
   "execution_count": null,
   "metadata": {
    "collapsed": false
   },
   "outputs": [],
   "source": [
    "def count_substring(string,sub_string):\n",
    "    count = 0\n",
    "    for i in range(0, len(string)):\n",
    "        if sub_string in string[i:i+len(sub_string)]:\n",
    "            count += 1\n",
    "    return count\n",
    "\n",
    "if __name__ == '__main__':\n",
    "    string = input().strip()\n",
    "    sub_string = input().strip()\n",
    "    count = count_substring(string, sub_string)\n",
    "    print(count)"
   ]
  },
  {
   "cell_type": "code",
   "execution_count": null,
   "metadata": {
    "collapsed": false
   },
   "outputs": [],
   "source": [
    "#String Validators\n",
    "\"\"\"Your task is to find out if the string  contains: \n",
    "   alphanumeric characters, alphabetical characters, digits, lowercase and uppercase characters.\"\"\"\n",
    "if __name__ == '__main__':\n",
    "    s = input()\n",
    "    print(any(char.isalnum() for char in s))\n",
    "    print(any(char.isalpha() for char in s))\n",
    "    print(any(char.isdigit() for char in s))\n",
    "    print(any(char.islower() for char in s))\n",
    "    print(any(char.isupper() for char in s))"
   ]
  },
  {
   "cell_type": "code",
   "execution_count": 5,
   "metadata": {
    "collapsed": false
   },
   "outputs": [
    {
     "name": "stdout",
     "output_type": "stream",
     "text": [
      "5\n",
      "    H      \n",
      "   HHH     \n",
      "  HHHHH    \n",
      " HHHHHHH   \n",
      "HHHHHHHHH  \n",
      "HHHHH                              HHHHH\n",
      "HHHHH                              HHHHH\n",
      "HHHHH                              HHHHH\n",
      "HHHHH                              HHHHH\n",
      "HHHHH                              HHHHH\n",
      "HHHHH                              HHHHH\n"
     ]
    }
   ],
   "source": [
    "thickness = int(input())\n",
    "c ='H'\n",
    "\n",
    "#Top Cone\n",
    "for i in range(thickness):\n",
    "    print((c*i).rjust(thickness-1)+c+(c*i).ljust(thickness+1))\n",
    "    \n",
    "#Top Pillars\n",
    "for i in range(thickness+1):\n",
    "    print((c*thickness).ljust(thickness*2)+(c*thickness).rjust(thickness*6))\n",
    "    "
   ]
  },
  {
   "cell_type": "code",
   "execution_count": null,
   "metadata": {
    "collapsed": true
   },
   "outputs": [],
   "source": []
  }
 ],
 "metadata": {
  "kernelspec": {
   "display_name": "Python 3",
   "language": "python",
   "name": "python3"
  },
  "language_info": {
   "codemirror_mode": {
    "name": "ipython",
    "version": 3
   },
   "file_extension": ".py",
   "mimetype": "text/x-python",
   "name": "python",
   "nbconvert_exporter": "python",
   "pygments_lexer": "ipython3",
   "version": "3.6.9"
  }
 },
 "nbformat": 4,
 "nbformat_minor": 2
}
