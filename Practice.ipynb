{
 "cells": [
  {
   "cell_type": "markdown",
   "metadata": {},
   "source": []
  },
  {
   "cell_type": "code",
   "execution_count": 16,
   "metadata": {
    "collapsed": false
   },
   "outputs": [
    {
     "name": "stdout",
     "output_type": "stream",
     "text": [
      "Enter a number:2\n",
      "Even number\n"
     ]
    }
   ],
   "source": [
    "#Even or Odd Number\n",
    "\n",
    "# No short cuts.. use the complete names\n",
    "# Instead of num -- you should use number\n",
    "def findIfEvenOrOdd(number): \n",
    "    if number == 0:\n",
    "        print(\"You entered zero\")\n",
    "    elif number%2 == 0:\n",
    "        print(\"Even number\")\n",
    "    else:\n",
    "        print(\"Odd number\")\n",
    "        \n",
    "findIfEvenOrOdd(int(input(\"Enter a number:\")))    "
   ]
  },
  {
   "cell_type": "code",
   "execution_count": 15,
   "metadata": {
    "collapsed": false
   },
   "outputs": [
    {
     "name": "stdout",
     "output_type": "stream",
     "text": [
      "0\n",
      "1\n",
      "2\n",
      "3\n",
      "4\n",
      "5\n",
      "6\n",
      "7\n",
      "8\n",
      "9\n",
      "10\n"
     ]
    }
   ],
   "source": [
    "# #Print first 100 numbers\n",
    "\n",
    "# def checknum(num):\n",
    "#     for i in range(num):\n",
    "#         print(i)\n",
    "        \n",
    "# checknum(11)\n",
    "\n",
    "# Check my code..more meaningful names\n",
    "# Also, you should ask a question.. Asking should I print from 0 to 99 or 1 to 100?\n",
    "\n",
    "#Print first 100 numbers\n",
    "\n",
    "def printNumbers(numbers):\n",
    "    for currentNumber in range(numbers):\n",
    "        print(currentNumber)\n",
    "        \n",
    "printNumbers(11)"
   ]
  },
  {
   "cell_type": "code",
   "execution_count": 8,
   "metadata": {
    "collapsed": false
   },
   "outputs": [
    {
     "name": "stdout",
     "output_type": "stream",
     "text": [
      "0\n",
      "1\n",
      "4\n",
      "9\n",
      "16\n",
      "25\n",
      "36\n",
      "49\n",
      "64\n",
      "81\n",
      "100\n"
     ]
    }
   ],
   "source": [
    "#Print Square of numbers\n",
    "\n",
    "## Observe that I gave more meaningful names\n",
    "def PrintSquares(numbers):\n",
    "    for currentNumber in range(numbers):\n",
    "        print(currentNumber*currentNumber)\n",
    "    # return(num) -- why return?? this function is just to print squares\n",
    "        \n",
    "PrintSquares(11)"
   ]
  },
  {
   "cell_type": "code",
   "execution_count": 4,
   "metadata": {
    "collapsed": false
   },
   "outputs": [
    {
     "name": "stdout",
     "output_type": "stream",
     "text": [
      "Enter a Number:12\n",
      "Squared Number: 144\n"
     ]
    }
   ],
   "source": [
    "#Return square of a number\n",
    "\n",
    "def PrintSquare(number):\n",
    "    currentNumber = number * number\n",
    "    return(currentNumber)\n",
    "\n",
    "currentNumber = PrintSquare(int(input(\"Enter a Number:\")))\n",
    "\n",
    "print('Squared Number: '+ str(currentNumber))"
   ]
  },
  {
   "cell_type": "code",
   "execution_count": 14,
   "metadata": {
    "collapsed": false
   },
   "outputs": [
    {
     "name": "stdout",
     "output_type": "stream",
     "text": [
      "[1]\n",
      "[1, 4]\n",
      "[1, 4, 9]\n",
      "[1, 4, 9, 16]\n",
      "[1, 4, 9, 16, 25]\n",
      "[1, 4, 9, 16, 25]\n"
     ]
    }
   ],
   "source": [
    "#Return List Of Squares\n",
    "\n",
    "def printListSquares(listOfNumbers):\n",
    "    result = []\n",
    "    for number in listOfNumbers:\n",
    "        result.append(number ** 2)\n",
    "        print(result)\n",
    "    return result\n",
    "\n",
    "listOfNumbers = [1,2,3,4,5]\n",
    "result = printListSquares(listOfNumbers)\n",
    "print(result)"
   ]
  },
  {
   "cell_type": "code",
   "execution_count": 10,
   "metadata": {
    "collapsed": false
   },
   "outputs": [
    {
     "name": "stdout",
     "output_type": "stream",
     "text": [
      "1 4 9 16 25\n"
     ]
    }
   ],
   "source": [
    "#Unpacking list of elements\n",
    "print(*result)"
   ]
  },
  {
   "cell_type": "code",
   "execution_count": 12,
   "metadata": {
    "collapsed": false
   },
   "outputs": [
    {
     "name": "stdout",
     "output_type": "stream",
     "text": [
      "1\n",
      "4\n",
      "9\n",
      "16\n",
      "25\n"
     ]
    }
   ],
   "source": [
    "a,b,c,d,e = result\n",
    "\n",
    "print(a)\n",
    "\n",
    "print(b)\n",
    "\n",
    "print(c)\n",
    "\n",
    "print(d)\n",
    "\n",
    "print(e)"
   ]
  },
  {
   "cell_type": "code",
   "execution_count": null,
   "metadata": {
    "collapsed": true
   },
   "outputs": [],
   "source": [
    "#dunder functions -> double underscore functions\n",
    "# number + number\n",
    "# __mul__(number1, number2)\n",
    "# __add__\n",
    "# __sub__\n",
    "# __div__"
   ]
  }
 ],
 "metadata": {
  "kernelspec": {
   "display_name": "Python 3",
   "language": "python",
   "name": "python3"
  },
  "language_info": {
   "codemirror_mode": {
    "name": "ipython",
    "version": 3
   },
   "file_extension": ".py",
   "mimetype": "text/x-python",
   "name": "python",
   "nbconvert_exporter": "python",
   "pygments_lexer": "ipython3",
   "version": "3.6.9"
  }
 },
 "nbformat": 4,
 "nbformat_minor": 2
}
