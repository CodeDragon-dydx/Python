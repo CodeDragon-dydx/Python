{
 "cells": [
  {
   "cell_type": "code",
   "execution_count": null,
   "metadata": {
    "collapsed": false
   },
   "outputs": [],
   "source": [
    "print('One,\\'two\\',\\\"three\\\",four,\\n\\\\five\\\\\\n\\tonce,\\'I\\' caught a \\\n",
    "fish\\n\\t\\t\\'//alive\\\\\\\\\\'')"
   ]
  },
  {
   "cell_type": "code",
   "execution_count": null,
   "metadata": {
    "collapsed": false
   },
   "outputs": [],
   "source": [
    "print('One,\\'two\\',\\\"three\\\", four,\\\\five\\\\\\n\\tonce,\\'I\\' caught a \\\n",
    "fish\\n\\t\\t\\'//alive\\\\\\\\\\'')"
   ]
  },
  {
   "cell_type": "code",
   "execution_count": null,
   "metadata": {
    "collapsed": false
   },
   "outputs": [],
   "source": [
    "#Ask the user for the radius of the circle and then print the area\n",
    "\n",
    "radius = float(input('Enter the area of the circle:'))\n",
    "pi = 3.1419\n",
    "area = pi*radius**2\n",
    "print('You entered radius is',radius,'Area is',area)"
   ]
  },
  {
   "cell_type": "code",
   "execution_count": null,
   "metadata": {
    "collapsed": false
   },
   "outputs": [],
   "source": [
    "#Convert Fahrenheit to Celcius\n",
    "\n",
    "far = float(input(\"Please enter the temperature in Fahrenheit\"))\n",
    "cel = ((far-32)*5)/9\n",
    "print(far, 'Fahrenheit in Celcius is', cel)"
   ]
  },
  {
   "cell_type": "code",
   "execution_count": null,
   "metadata": {
    "collapsed": false
   },
   "outputs": [],
   "source": [
    "#Obtain the sum of two integers\n",
    "\n",
    "num_1 = int(input('Please enter the first number:'))\n",
    "num_2 = int(input('Please enter the second number:'))\n",
    "print('The sum of '+str(num_1)+' and '+str(num_2)+' is '+str(num_1+num_2))"
   ]
  },
  {
   "cell_type": "code",
   "execution_count": null,
   "metadata": {
    "collapsed": false
   },
   "outputs": [],
   "source": [
    "#Obtain the product of two integers\n",
    "\n",
    "num_1 = int(input('Please enter the first number'))\n",
    "num_2 = int(input('Please enter the second number'))\n",
    "product = num_1*num_2\n",
    "print('The product of', num_1, 'and', num_2, 'is', product)"
   ]
  },
  {
   "cell_type": "code",
   "execution_count": null,
   "metadata": {
    "collapsed": false
   },
   "outputs": [],
   "source": [
    "#A, B, C and D want to order pizza. They all know they will each eat 4 slices of pizza.\n",
    "#The local pizza shop sells of only 6 slices.\n",
    "# What is the minimum number of pizzas needed.\n",
    "\n",
    "total_slices = 4*4\n",
    "number_of_pizzas = ((total_slices+5)//6)\n",
    "slices_left = number_of_pizzas*6 - total_slices\n",
    "print('number of pizzas required is', number_of_pizzas, 'there will be', slices_left, 'remaining slices')"
   ]
  },
  {
   "cell_type": "markdown",
   "metadata": {},
   "source": []
  },
  {
   "cell_type": "code",
   "execution_count": null,
   "metadata": {
    "collapsed": false
   },
   "outputs": [],
   "source": [
    "#Boolean Expressions\n",
    "3==3\n",
    "3==2"
   ]
  },
  {
   "cell_type": "code",
   "execution_count": null,
   "metadata": {
    "collapsed": false
   },
   "outputs": [],
   "source": [
    "x = 5\n",
    "y = 6\n",
    "\n",
    "print('x =', x, 'y =', y)\n",
    "print('Checking less than with \\'<\\':', x < y)\n",
    "print('Checking greater than with \\'>\\':', x > y)"
   ]
  },
  {
   "cell_type": "code",
   "execution_count": null,
   "metadata": {
    "collapsed": false
   },
   "outputs": [],
   "source": [
    "var_3, var_4, var_5 = 15, 20, 25\n",
    "print('var_3 =', var_3,'var_4 =', var_4,'var_5 =',var_5, end ='\\n\\n')\n",
    "print('var_4 and var_5 < 100?', var_4 < 100 and var_5 < 100)\n",
    "print('var_4 and var_5 < 22?', var_4 < 22 and var_5 < 22)\n",
    "print('var_4 or var_5 < 22?', var_4 < 22 or var_5 < 22)"
   ]
  },
  {
   "cell_type": "code",
   "execution_count": null,
   "metadata": {
    "collapsed": false
   },
   "outputs": [],
   "source": [
    "print('not True is:', not True)\n",
    "print('not False is:', not False)"
   ]
  },
  {
   "cell_type": "code",
   "execution_count": null,
   "metadata": {
    "collapsed": false
   },
   "outputs": [],
   "source": [
    "print('var_4 and var_5 < 100?', not(var_4 < 100 and var_5 < 100))\n",
    "print('var_4 and var_5 < 22?', not(var_4 < 22 and var_5 < 22))\n",
    "print('var_4 or var_5 < 22?', not(var_4 < 22 or var_5 < 22))"
   ]
  },
  {
   "cell_type": "code",
   "execution_count": null,
   "metadata": {
    "collapsed": false
   },
   "outputs": [],
   "source": [
    "True and not(4>7)"
   ]
  },
  {
   "cell_type": "code",
   "execution_count": 2,
   "metadata": {
    "collapsed": false
   },
   "outputs": [
    {
     "name": "stdout",
     "output_type": "stream",
     "text": [
      "The variable 'some_condition' is True\n"
     ]
    }
   ],
   "source": [
    "some_condition = True\n",
    "\n",
    "if some_condition:\n",
    "    print('The variable \\'some_condition\\' is True')\n",
    "else:\n",
    "    print('The variable \\'some_condition\\' is False')"
   ]
  },
  {
   "cell_type": "code",
   "execution_count": 1,
   "metadata": {
    "collapsed": false
   },
   "outputs": [
    {
     "name": "stdout",
     "output_type": "stream",
     "text": [
      "please enter the temperature in celcius. An integer between 0-40:>>>10\n",
      "Too cold, Don't go out\n"
     ]
    }
   ],
   "source": [
    "temp = int(input('please enter the temperature in celcius. \\\n",
    "An integer between 0-40:>>>'))\n",
    "\n",
    "if temp > 30:\n",
    "    print('wear shorts and sun cream!')\n",
    "elif temp <= 30 and temp > 20:\n",
    "    print('It\\'s warm, but not shorts weather!')\n",
    "elif temp <= 20 and temp > 10:\n",
    "    print('you\\'ll probably need a vest today!')\n",
    "else:\n",
    "    print('Too cold, Don\\'t go out')"
   ]
  },
  {
   "cell_type": "code",
   "execution_count": null,
   "metadata": {
    "collapsed": true
   },
   "outputs": [],
   "source": []
  }
 ],
 "metadata": {
  "kernelspec": {
   "display_name": "Python 3",
   "language": "python",
   "name": "python3"
  },
  "language_info": {
   "codemirror_mode": {
    "name": "ipython",
    "version": 3
   },
   "file_extension": ".py",
   "mimetype": "text/x-python",
   "name": "python",
   "nbconvert_exporter": "python",
   "pygments_lexer": "ipython3",
   "version": "3.6.9"
  }
 },
 "nbformat": 4,
 "nbformat_minor": 2
}
