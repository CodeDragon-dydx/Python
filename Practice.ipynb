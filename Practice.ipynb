{
 "cells": [
  {
   "cell_type": "code",
   "execution_count": null,
   "metadata": {
    "collapsed": false
   },
   "outputs": [],
   "source": [
    "print('One,\\'two\\',\\\"three\\\",four,\\n\\\\five\\\\\\n\\tonce,\\'I\\' caught a \\\n",
    "fish\\n\\t\\t\\'//alive\\\\\\\\\\'')"
   ]
  },
  {
   "cell_type": "code",
   "execution_count": null,
   "metadata": {
    "collapsed": false
   },
   "outputs": [],
   "source": [
    "print('One,\\'two\\',\\\"three\\\", four,\\\\five\\\\\\n\\tonce,\\'I\\' caught a \\\n",
    "fish\\n\\t\\t\\'//alive\\\\\\\\\\'')"
   ]
  },
  {
   "cell_type": "code",
   "execution_count": null,
   "metadata": {
    "collapsed": false
   },
   "outputs": [],
   "source": [
    "#Ask the user for the radius of the circle and then print the area\n",
    "\n",
    "radius = float(input('Enter the area of the circle:'))\n",
    "pi = 3.1419\n",
    "area = pi*radius**2\n",
    "print('You entered radius is',radius,'Area is',area)"
   ]
  },
  {
   "cell_type": "code",
   "execution_count": null,
   "metadata": {
    "collapsed": false
   },
   "outputs": [],
   "source": [
    "#Convert Fahrenheit to Celcius\n",
    "\n",
    "far = float(input(\"Please enter the temperature in Fahrenheit\"))\n",
    "cel = ((far-32)*5)/9\n",
    "print(far, 'Fahrenheit in Celcius is', cel)"
   ]
  },
  {
   "cell_type": "code",
   "execution_count": null,
   "metadata": {
    "collapsed": false
   },
   "outputs": [],
   "source": [
    "#Obtain the sum of two integers\n",
    "\n",
    "num_1 = int(input('Please enter the first number:'))\n",
    "num_2 = int(input('Please enter the second number:'))\n",
    "print('The sum of '+str(num_1)+' and '+str(num_2)+' is '+str(num_1+num_2))"
   ]
  },
  {
   "cell_type": "code",
   "execution_count": null,
   "metadata": {
    "collapsed": false
   },
   "outputs": [],
   "source": [
    "#Obtain the product of two integers\n",
    "\n",
    "num_1 = int(input('Please enter the first number'))\n",
    "num_2 = int(input('Please enter the second number'))\n",
    "product = num_1*num_2\n",
    "print('The product of', num_1, 'and', num_2, 'is', product)"
   ]
  },
  {
   "cell_type": "code",
   "execution_count": null,
   "metadata": {
    "collapsed": false
   },
   "outputs": [],
   "source": [
    "#A, B, C and D want to order pizza. They all know they will each eat 4 slices of pizza.\n",
    "#The local pizza shop sells of only 6 slices.\n",
    "# What is the minimum number of pizzas needed.\n",
    "\n",
    "total_slices = 4*4\n",
    "number_of_pizzas = ((total_slices+5)//6)\n",
    "slices_left = number_of_pizzas*6 - total_slices\n",
    "print('number of pizzas required is', number_of_pizzas, 'there will be', slices_left, 'remaining slices')"
   ]
  },
  {
   "cell_type": "markdown",
   "metadata": {},
   "source": []
  },
  {
   "cell_type": "code",
   "execution_count": null,
   "metadata": {
    "collapsed": false
   },
   "outputs": [],
   "source": [
    "#Boolean Expressions\n",
    "3==3\n",
    "3==2"
   ]
  },
  {
   "cell_type": "code",
   "execution_count": null,
   "metadata": {
    "collapsed": false
   },
   "outputs": [],
   "source": [
    "x = 5\n",
    "y = 6\n",
    "\n",
    "print('x =', x, 'y =', y)\n",
    "print('Checking less than with \\'<\\':', x < y)\n",
    "print('Checking greater than with \\'>\\':', x > y)"
   ]
  },
  {
   "cell_type": "code",
   "execution_count": null,
   "metadata": {
    "collapsed": false
   },
   "outputs": [],
   "source": [
    "var_3, var_4, var_5 = 15, 20, 25\n",
    "print('var_3 =', var_3,'var_4 =', var_4,'var_5 =',var_5, end ='\\n\\n')\n",
    "print('var_4 and var_5 < 100?', var_4 < 100 and var_5 < 100)\n",
    "print('var_4 and var_5 < 22?', var_4 < 22 and var_5 < 22)\n",
    "print('var_4 or var_5 < 22?', var_4 < 22 or var_5 < 22)"
   ]
  },
  {
   "cell_type": "code",
   "execution_count": null,
   "metadata": {
    "collapsed": false
   },
   "outputs": [],
   "source": [
    "print('not True is:', not True)\n",
    "print('not False is:', not False)"
   ]
  },
  {
   "cell_type": "code",
   "execution_count": null,
   "metadata": {
    "collapsed": false
   },
   "outputs": [],
   "source": [
    "print('var_4 and var_5 < 100?', not(var_4 < 100 and var_5 < 100))\n",
    "print('var_4 and var_5 < 22?', not(var_4 < 22 and var_5 < 22))\n",
    "print('var_4 or var_5 < 22?', not(var_4 < 22 or var_5 < 22))"
   ]
  },
  {
   "cell_type": "code",
   "execution_count": null,
   "metadata": {
    "collapsed": false
   },
   "outputs": [],
   "source": [
    "True and not(4>7)"
   ]
  },
  {
   "cell_type": "code",
   "execution_count": 2,
   "metadata": {
    "collapsed": false
   },
   "outputs": [
    {
     "name": "stdout",
     "output_type": "stream",
     "text": [
      "The variable 'some_condition' is True\n"
     ]
    }
   ],
   "source": [
    "some_condition = True\n",
    "\n",
    "if some_condition:\n",
    "    print('The variable \\'some_condition\\' is True')\n",
    "else:\n",
    "    print('The variable \\'some_condition\\' is False')"
   ]
  },
  {
   "cell_type": "code",
   "execution_count": 1,
   "metadata": {
    "collapsed": false
   },
   "outputs": [
    {
     "name": "stdout",
     "output_type": "stream",
     "text": [
      "please enter the temperature in celcius. An integer between 0-40:>>>10\n",
      "Too cold, Don't go out\n"
     ]
    }
   ],
   "source": [
    "temp = int(input('please enter the temperature in celcius. \\\n",
    "An integer between 0-40:>>>'))\n",
    "\n",
    "if temp > 30:\n",
    "    print('wear shorts and sun cream!')\n",
    "elif temp <= 30 and temp > 20:\n",
    "    print('It\\'s warm, but not shorts weather!')\n",
    "elif temp <= 20 and temp > 10:\n",
    "    print('you\\'ll probably need a vest today!')\n",
    "else:\n",
    "    print('Too cold, Don\\'t go out')"
   ]
  },
  {
   "cell_type": "code",
   "execution_count": 9,
   "metadata": {
    "collapsed": false
   },
   "outputs": [
    {
     "data": {
      "text/plain": [
       "6"
      ]
     },
     "execution_count": 9,
     "metadata": {},
     "output_type": "execute_result"
    }
   ],
   "source": [
    "# Strings\n",
    "\n",
    "my_string = 'Python'\n",
    "\n",
    "#Length of the string\n",
    "len(my_string)  #Time_Complexity --> O(1)"
   ]
  },
  {
   "cell_type": "code",
   "execution_count": 7,
   "metadata": {
    "collapsed": false
   },
   "outputs": [
    {
     "data": {
      "text/plain": [
       "'PythonTejaTejaTeja'"
      ]
     },
     "execution_count": 7,
     "metadata": {},
     "output_type": "execute_result"
    }
   ],
   "source": [
    "my_string += \"Teja\"\n",
    "\n",
    "my_string"
   ]
  },
  {
   "cell_type": "code",
   "execution_count": 8,
   "metadata": {
    "collapsed": false
   },
   "outputs": [
    {
     "data": {
      "text/plain": [
       "4415577016"
      ]
     },
     "execution_count": 8,
     "metadata": {},
     "output_type": "execute_result"
    }
   ],
   "source": [
    "id(my_string)"
   ]
  },
  {
   "cell_type": "code",
   "execution_count": 10,
   "metadata": {
    "collapsed": false
   },
   "outputs": [
    {
     "data": {
      "text/plain": [
       "'P'"
      ]
     },
     "execution_count": 10,
     "metadata": {},
     "output_type": "execute_result"
    }
   ],
   "source": [
    "my_string[0] #zero indexing"
   ]
  },
  {
   "cell_type": "code",
   "execution_count": 11,
   "metadata": {
    "collapsed": false
   },
   "outputs": [
    {
     "data": {
      "text/plain": [
       "'y'"
      ]
     },
     "execution_count": 11,
     "metadata": {},
     "output_type": "execute_result"
    }
   ],
   "source": [
    "my_string[1]"
   ]
  },
  {
   "cell_type": "code",
   "execution_count": 12,
   "metadata": {
    "collapsed": false
   },
   "outputs": [
    {
     "data": {
      "text/plain": [
       "'Pyth'"
      ]
     },
     "execution_count": 12,
     "metadata": {},
     "output_type": "execute_result"
    }
   ],
   "source": [
    "my_string[0:4]"
   ]
  },
  {
   "cell_type": "code",
   "execution_count": 13,
   "metadata": {
    "collapsed": false
   },
   "outputs": [
    {
     "data": {
      "text/plain": [
       "'Pyth'"
      ]
     },
     "execution_count": 13,
     "metadata": {},
     "output_type": "execute_result"
    }
   ],
   "source": [
    "#or \n",
    "\n",
    "my_string[:4] #both are equal"
   ]
  },
  {
   "cell_type": "code",
   "execution_count": 14,
   "metadata": {
    "collapsed": false
   },
   "outputs": [
    {
     "data": {
      "text/plain": [
       "'n'"
      ]
     },
     "execution_count": 14,
     "metadata": {},
     "output_type": "execute_result"
    }
   ],
   "source": [
    "my_string[-1]"
   ]
  },
  {
   "cell_type": "code",
   "execution_count": 16,
   "metadata": {
    "collapsed": false
   },
   "outputs": [
    {
     "data": {
      "text/plain": [
       "'h'"
      ]
     },
     "execution_count": 16,
     "metadata": {},
     "output_type": "execute_result"
    }
   ],
   "source": [
    "letter = my_string[3]\n",
    "\n",
    "letter"
   ]
  },
  {
   "cell_type": "code",
   "execution_count": 17,
   "metadata": {
    "collapsed": false
   },
   "outputs": [
    {
     "data": {
      "text/plain": [
       "'PYTHON'"
      ]
     },
     "execution_count": 17,
     "metadata": {},
     "output_type": "execute_result"
    }
   ],
   "source": [
    "my_string.upper()"
   ]
  },
  {
   "cell_type": "code",
   "execution_count": 18,
   "metadata": {
    "collapsed": false
   },
   "outputs": [
    {
     "data": {
      "text/plain": [
       "'python'"
      ]
     },
     "execution_count": 18,
     "metadata": {},
     "output_type": "execute_result"
    }
   ],
   "source": [
    "my_string.lower()"
   ]
  },
  {
   "cell_type": "code",
   "execution_count": 23,
   "metadata": {
    "collapsed": false
   },
   "outputs": [
    {
     "name": "stdout",
     "output_type": "stream",
     "text": [
      "I'm thinking of a word, can you guess what it is? Hintit's a season.>>>aman\n",
      "Aman is not a season!\n"
     ]
    }
   ],
   "source": [
    "word = 'summer'\n",
    "    \n",
    "guess = input('I\\'m thinking of a word, can you guess what it is? Hint\\\n",
    "it\\'s a season.>>>')\n",
    "\n",
    "guess = guess.lower()\n",
    "\n",
    "if guess == 'summer':\n",
    "    print('Yes, it\\'s Summer: well done!')\n",
    "elif guess == 'winter':\n",
    "    print('No, it\\'s not Winter. Sorry!')\n",
    "elif guess == 'autumn':\n",
    "    print('No, it\\'s not Autumn.Sorry!')\n",
    "elif guess == 'spring':\n",
    "    print('No, it\\'s not Spring. Sorry!')\n",
    "else:\n",
    "    print(guess.capitalize(),'is not a season!')"
   ]
  },
  {
   "cell_type": "code",
   "execution_count": 2,
   "metadata": {
    "collapsed": false
   },
   "outputs": [
    {
     "name": "stdout",
     "output_type": "stream",
     "text": [
      "Enter a number between 1 and 5 inclusive:2\n",
      "two\n"
     ]
    }
   ],
   "source": [
    "#Write code that asks the user to input a number between 1 and 5 inclusive.\n",
    "#The code will take the integer value and print out the string value.\n",
    "#So for example if the user inputs 2, the code will print two\n",
    "#Reject any input that is not a number in that range\n",
    "\n",
    "number = int(input(\"Enter a number between 1 and 5 inclusive:\"))\n",
    "\n",
    "if number == 1:\n",
    "    print('one')\n",
    "elif number == 2:\n",
    "    print('two')\n",
    "elif number == 3:\n",
    "    print('three')\n",
    "elif number == 4:\n",
    "    print('four')\n",
    "elif number == 5:\n",
    "    print('five')\n",
    "else:\n",
    "    print('you have entered a different number')"
   ]
  },
  {
   "cell_type": "code",
   "execution_count": 7,
   "metadata": {
    "collapsed": false
   },
   "outputs": [
    {
     "name": "stdout",
     "output_type": "stream",
     "text": [
      "Please enter a string between one and five:> three\n",
      "3\n"
     ]
    }
   ],
   "source": [
    "#Repeat the previous task but this time the user will input a string and the code will output the integer value.\n",
    "\n",
    "#Convert the string to lowercase first\n",
    "\n",
    "user_input = input('Please enter a string between one and five:> ')\n",
    "\n",
    "user_input = user_input.lower()\n",
    "\n",
    "if user_input == 'one':\n",
    "    print(1)\n",
    "elif user_input == 'two':\n",
    "    print(2)\n",
    "elif user_input == 'three':\n",
    "    print(3)\n",
    "elif user_input == 'four':\n",
    "    print(4)\n",
    "elif user_input == 'five':\n",
    "    print(5)\n",
    "else:\n",
    "    print('out of range')"
   ]
  },
  {
   "cell_type": "code",
   "execution_count": 1,
   "metadata": {
    "collapsed": false
   },
   "outputs": [
    {
     "name": "stdout",
     "output_type": "stream",
     "text": [
      "Enter an integer number between 1 and 10 inclusive:3\n",
      "You won\n"
     ]
    }
   ],
   "source": [
    "#Create a variable containing an integer between 1 and 10 inclusive.\n",
    "#Ask the user to guess the number. If they guess too high or too low, tell them they have not won.\n",
    "#Tell them they win if they guess the correct number\n",
    "\n",
    "secret_number = 3\n",
    "\n",
    "guess = input('Enter an integer number between 1 and 10 inclusive:')\n",
    "if guess.isdigit():\n",
    "    guess = int(guess)\n",
    "    if guess < secret_number and guess > 0:\n",
    "        print('The guess is too low. You have not won')\n",
    "    elif guess > secret_number and guess < 10:\n",
    "        print('The guess is too high. You have not won')\n",
    "    elif guess == secret_number:\n",
    "        print('You won')\n",
    "    else:\n",
    "        print('Out of Range')\n",
    "else:\n",
    "    print('That\\'s not even an integer! What are you playing at?!')"
   ]
  },
  {
   "cell_type": "code",
   "execution_count": 5,
   "metadata": {
    "collapsed": false
   },
   "outputs": [
    {
     "name": "stdout",
     "output_type": "stream",
     "text": [
      "Enter name:>erfwefw\n",
      "The name is 7 characters long\n"
     ]
    }
   ],
   "source": [
    "name = input(\"Enter name:>\")\n",
    "\n",
    "name_len = len(name)\n",
    "\n",
    "if name_len > 5:\n",
    "    print('The name is', name_len, 'characters long')\n",
    "else:\n",
    "    print('The length of the name is secret')"
   ]
  },
  {
   "cell_type": "code",
   "execution_count": null,
   "metadata": {
    "collapsed": true
   },
   "outputs": [],
   "source": []
  }
 ],
 "metadata": {
  "kernelspec": {
   "display_name": "Python 3",
   "language": "python",
   "name": "python3"
  },
  "language_info": {
   "codemirror_mode": {
    "name": "ipython",
    "version": 3
   },
   "file_extension": ".py",
   "mimetype": "text/x-python",
   "name": "python",
   "nbconvert_exporter": "python",
   "pygments_lexer": "ipython3",
   "version": "3.6.9"
  }
 },
 "nbformat": 4,
 "nbformat_minor": 2
}
