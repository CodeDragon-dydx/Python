{
 "cells": [
  {
   "cell_type": "code",
   "execution_count": 1,
   "metadata": {
    "collapsed": false
   },
   "outputs": [
    {
     "name": "stdout",
     "output_type": "stream",
     "text": [
      "One,'two',\"three\",four,\n",
      "\\five\\\n",
      "\tonce,'I' caught a fish\n",
      "\t\t'//alive\\\\'\n"
     ]
    }
   ],
   "source": [
    "print('One,\\'two\\',\\\"three\\\",four,\\n\\\\five\\\\\\n\\tonce,\\'I\\' caught a \\\n",
    "fish\\n\\t\\t\\'//alive\\\\\\\\\\'')"
   ]
  },
  {
   "cell_type": "code",
   "execution_count": 2,
   "metadata": {
    "collapsed": false
   },
   "outputs": [
    {
     "name": "stdout",
     "output_type": "stream",
     "text": [
      "One,'two',\"three\", four,\\five\\\n",
      "\tonce,'I' caught a fish\n",
      "\t\t'//alive\\\\'\n"
     ]
    }
   ],
   "source": [
    "print('One,\\'two\\',\\\"three\\\", four,\\\\five\\\\\\n\\tonce,\\'I\\' caught a \\\n",
    "fish\\n\\t\\t\\'//alive\\\\\\\\\\'')"
   ]
  },
  {
   "cell_type": "code",
   "execution_count": 3,
   "metadata": {
    "collapsed": false
   },
   "outputs": [
    {
     "name": "stdout",
     "output_type": "stream",
     "text": [
      "Enter the area of the circle:2\n",
      "You entered radius is 2.0 Area is 12.5676\n"
     ]
    }
   ],
   "source": [
    "#Ask the user for the radius of the circle and then print the area\n",
    "\n",
    "radius = float(input('Enter the area of the circle:'))\n",
    "pi = 3.1419\n",
    "area = pi*radius**2\n",
    "print('You entered radius is',radius,'Area is',area)"
   ]
  },
  {
   "cell_type": "code",
   "execution_count": 4,
   "metadata": {
    "collapsed": false
   },
   "outputs": [
    {
     "name": "stdout",
     "output_type": "stream",
     "text": [
      "Please enter the temperature in Fahrenheit100\n",
      "100.0 Fahrenheit in Celcius is 37.77777777777778\n"
     ]
    }
   ],
   "source": [
    "#Convert Fahrenheit to Celcius\n",
    "\n",
    "far = float(input(\"Please enter the temperature in Fahrenheit\"))\n",
    "cel = ((far-32)*5)/9\n",
    "print(far, 'Fahrenheit in Celcius is', cel)"
   ]
  },
  {
   "cell_type": "code",
   "execution_count": 5,
   "metadata": {
    "collapsed": false
   },
   "outputs": [
    {
     "name": "stdout",
     "output_type": "stream",
     "text": [
      "Please enter the first number:3\n",
      "Please enter the second number:4\n",
      "The sum of 3 and 4 is 7\n"
     ]
    }
   ],
   "source": [
    "#Obtain the sum of two integers\n",
    "\n",
    "num_1 = int(input('Please enter the first number:'))\n",
    "num_2 = int(input('Please enter the second number:'))\n",
    "print('The sum of '+str(num_1)+' and '+str(num_2)+' is '+str(num_1+num_2))"
   ]
  },
  {
   "cell_type": "code",
   "execution_count": 6,
   "metadata": {
    "collapsed": false
   },
   "outputs": [
    {
     "name": "stdout",
     "output_type": "stream",
     "text": [
      "Please enter the first number3\n",
      "Please enter the second number5\n",
      "The product of 3 and 5 is 15\n"
     ]
    }
   ],
   "source": [
    "#Obtain the product of two integers\n",
    "\n",
    "num_1 = int(input('Please enter the first number'))\n",
    "num_2 = int(input('Please enter the second number'))\n",
    "product = num_1*num_2\n",
    "print('The product of', num_1, 'and', num_2, 'is', product)"
   ]
  },
  {
   "cell_type": "code",
   "execution_count": 7,
   "metadata": {
    "collapsed": false
   },
   "outputs": [
    {
     "name": "stdout",
     "output_type": "stream",
     "text": [
      "number of pizzas required is 3 there will be 2 remaining slices\n"
     ]
    }
   ],
   "source": [
    "#A, B, C and D want to order pizza. They all know they will each eat 4 slices of pizza.\n",
    "#The local pizza shop sells of only 6 slices.\n",
    "# What is the minimum number of pizzas needed.\n",
    "\n",
    "total_slices = 4*4\n",
    "number_of_pizzas = ((total_slices+5)//6)\n",
    "slices_left = number_of_pizzas*6 - total_slices\n",
    "print('number of pizzas required is', number_of_pizzas, 'there will be', slices_left, 'remaining slices')"
   ]
  },
  {
   "cell_type": "markdown",
   "metadata": {},
   "source": []
  },
  {
   "cell_type": "code",
   "execution_count": 9,
   "metadata": {
    "collapsed": false
   },
   "outputs": [
    {
     "data": {
      "text/plain": [
       "False"
      ]
     },
     "execution_count": 9,
     "metadata": {},
     "output_type": "execute_result"
    }
   ],
   "source": [
    "#Boolean Expressions\n",
    "3==3\n",
    "3==2"
   ]
  },
  {
   "cell_type": "code",
   "execution_count": 12,
   "metadata": {
    "collapsed": false
   },
   "outputs": [
    {
     "name": "stdout",
     "output_type": "stream",
     "text": [
      "x = 5 y = 6\n",
      "Checking less than with '<': True\n",
      "Checking greater than with '>': False\n"
     ]
    }
   ],
   "source": [
    "x = 5\n",
    "y = 6\n",
    "\n",
    "print('x =', x, 'y =', y)\n",
    "print('Checking less than with \\'<\\':', x < y)\n",
    "print('Checking greater than with \\'>\\':', x > y)"
   ]
  },
  {
   "cell_type": "code",
   "execution_count": null,
   "metadata": {
    "collapsed": true
   },
   "outputs": [],
   "source": []
  }
 ],
 "metadata": {
  "kernelspec": {
   "display_name": "Python 3",
   "language": "python",
   "name": "python3"
  },
  "language_info": {
   "codemirror_mode": {
    "name": "ipython",
    "version": 3
   },
   "file_extension": ".py",
   "mimetype": "text/x-python",
   "name": "python",
   "nbconvert_exporter": "python",
   "pygments_lexer": "ipython3",
   "version": "3.6.9"
  }
 },
 "nbformat": 4,
 "nbformat_minor": 2
}
