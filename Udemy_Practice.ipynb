{
 "cells": [
  {
   "cell_type": "code",
   "execution_count": null,
   "metadata": {
    "collapsed": true
   },
   "outputs": [],
   "source": [
    "#Task 1 - Add all dictionary values together\n",
    "\n",
    "toys = {\"robot\": \"$40.0\", \"car\":\"$25\", \"ironman\":\"$12\"}"
   ]
  },
  {
   "cell_type": "code",
   "execution_count": null,
   "metadata": {
    "collapsed": false
   },
   "outputs": [],
   "source": [
    "toys_list = list(toys.values())\n",
    "\n",
    "toys_list_num = [int(eval(value.strip(\"$\"))) for value in toys_list]\n",
    "\n",
    "toys_list_num"
   ]
  },
  {
   "cell_type": "code",
   "execution_count": null,
   "metadata": {
    "collapsed": false
   },
   "outputs": [],
   "source": [
    "toys_num = sum(toys_list_num)"
   ]
  },
  {
   "cell_type": "code",
   "execution_count": null,
   "metadata": {
    "collapsed": false
   },
   "outputs": [],
   "source": [
    "print(toys_num)"
   ]
  },
  {
   "cell_type": "code",
   "execution_count": null,
   "metadata": {
    "collapsed": true
   },
   "outputs": [],
   "source": [
    "#Task 1 - Method 2\n",
    "\n",
    "\n",
    "toys = {\"robot\": \"$40.0\", \"car\":\"$25\", \"ironman\":\"$12\"}\n",
    "\n",
    "num = int(eval(list(toys.values())[0][1:])+eval(list(toys.values())[1][1:])+eval(list(toys.values())[2][1:]))"
   ]
  },
  {
   "cell_type": "code",
   "execution_count": null,
   "metadata": {
    "collapsed": false
   },
   "outputs": [],
   "source": [
    "num"
   ]
  },
  {
   "cell_type": "code",
   "execution_count": null,
   "metadata": {
    "collapsed": false
   },
   "outputs": [],
   "source": [
    "int(eval(list(toys.values())[0][1:]))"
   ]
  },
  {
   "cell_type": "code",
   "execution_count": null,
   "metadata": {
    "collapsed": true
   },
   "outputs": [],
   "source": [
    "#Task 2 - Use comparision operators in a list\n",
    "\n",
    "questions = [10 != 4, 50 == 50, 90 == 10, \"c\" in (\"a\", \"b\", \"c\"), 100 != 100] "
   ]
  },
  {
   "cell_type": "code",
   "execution_count": null,
   "metadata": {
    "collapsed": false
   },
   "outputs": [],
   "source": [
    "questions"
   ]
  },
  {
   "cell_type": "code",
   "execution_count": 3,
   "metadata": {
    "collapsed": true
   },
   "outputs": [],
   "source": [
    "#len key values with comparision operators\n",
    "\n",
    "films = {\"k1\":\"blade runner 2049\", \"k2\":\"matrix\", \"k3\":\"ninja scroll\"}"
   ]
  },
  {
   "cell_type": "code",
   "execution_count": 6,
   "metadata": {
    "collapsed": false
   },
   "outputs": [
    {
     "data": {
      "text/plain": [
       "True"
      ]
     },
     "execution_count": 6,
     "metadata": {},
     "output_type": "execute_result"
    }
   ],
   "source": [
    "len(films[\"k1\"]) > len(films[\"k2\"]) < len(films[\"k3\"])"
   ]
  },
  {
   "cell_type": "code",
   "execution_count": null,
   "metadata": {
    "collapsed": true
   },
   "outputs": [],
   "source": []
  }
 ],
 "metadata": {
  "kernelspec": {
   "display_name": "Python 3",
   "language": "python",
   "name": "python3"
  }
 },
 "nbformat": 4,
 "nbformat_minor": 2
}
